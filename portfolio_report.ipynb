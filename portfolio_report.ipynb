{
 "cells": [
  {
   "cell_type": "code",
   "execution_count": 2,
   "id": "2897ec68-a29b-4bc8-b221-17ebc20176e9",
   "metadata": {},
   "outputs": [],
   "source": [
    "import pandas as pd"
   ]
  },
  {
   "cell_type": "code",
   "execution_count": 6,
   "id": "c8276982-bf97-4549-bae4-df825a9ac087",
   "metadata": {},
   "outputs": [],
   "source": [
    "df = pd.read_csv('last_rebalancing.csv')\n"
   ]
  },
  {
   "cell_type": "code",
   "execution_count": 7,
   "id": "c78c7151-8e94-4968-8d18-67d933d61535",
   "metadata": {},
   "outputs": [
    {
     "data": {
      "text/html": [
       "<div>\n",
       "<style scoped>\n",
       "    .dataframe tbody tr th:only-of-type {\n",
       "        vertical-align: middle;\n",
       "    }\n",
       "\n",
       "    .dataframe tbody tr th {\n",
       "        vertical-align: top;\n",
       "    }\n",
       "\n",
       "    .dataframe thead th {\n",
       "        text-align: right;\n",
       "    }\n",
       "</style>\n",
       "<table border=\"1\" class=\"dataframe\">\n",
       "  <thead>\n",
       "    <tr style=\"text-align: right;\">\n",
       "      <th></th>\n",
       "      <th>Unnamed: 0</th>\n",
       "      <th>amount</th>\n",
       "      <th>board</th>\n",
       "    </tr>\n",
       "  </thead>\n",
       "  <tbody>\n",
       "    <tr>\n",
       "      <th>0</th>\n",
       "      <td>RUSB</td>\n",
       "      <td>28.0</td>\n",
       "      <td>TQTF</td>\n",
       "    </tr>\n",
       "    <tr>\n",
       "      <th>1</th>\n",
       "      <td>FXGD</td>\n",
       "      <td>2096.0</td>\n",
       "      <td>TQTF</td>\n",
       "    </tr>\n",
       "    <tr>\n",
       "      <th>2</th>\n",
       "      <td>FXDE</td>\n",
       "      <td>380.0</td>\n",
       "      <td>TQTF</td>\n",
       "    </tr>\n",
       "    <tr>\n",
       "      <th>3</th>\n",
       "      <td>FXCN</td>\n",
       "      <td>206.0</td>\n",
       "      <td>TQTF</td>\n",
       "    </tr>\n",
       "    <tr>\n",
       "      <th>4</th>\n",
       "      <td>FXKZ</td>\n",
       "      <td>982.0</td>\n",
       "      <td>TQTF</td>\n",
       "    </tr>\n",
       "    <tr>\n",
       "      <th>5</th>\n",
       "      <td>FXUS</td>\n",
       "      <td>135.0</td>\n",
       "      <td>TQTF</td>\n",
       "    </tr>\n",
       "    <tr>\n",
       "      <th>6</th>\n",
       "      <td>FXIT</td>\n",
       "      <td>46.0</td>\n",
       "      <td>TQTF</td>\n",
       "    </tr>\n",
       "    <tr>\n",
       "      <th>7</th>\n",
       "      <td>FXTB</td>\n",
       "      <td>944.0</td>\n",
       "      <td>TQTF</td>\n",
       "    </tr>\n",
       "    <tr>\n",
       "      <th>8</th>\n",
       "      <td>TIPO</td>\n",
       "      <td>47114.0</td>\n",
       "      <td>TQTD</td>\n",
       "    </tr>\n",
       "    <tr>\n",
       "      <th>9</th>\n",
       "      <td>TECH</td>\n",
       "      <td>100000.0</td>\n",
       "      <td>TQTD</td>\n",
       "    </tr>\n",
       "  </tbody>\n",
       "</table>\n",
       "</div>"
      ],
      "text/plain": [
       "  Unnamed: 0    amount board\n",
       "0       RUSB      28.0  TQTF\n",
       "1       FXGD    2096.0  TQTF\n",
       "2       FXDE     380.0  TQTF\n",
       "3       FXCN     206.0  TQTF\n",
       "4       FXKZ     982.0  TQTF\n",
       "5       FXUS     135.0  TQTF\n",
       "6       FXIT      46.0  TQTF\n",
       "7       FXTB     944.0  TQTF\n",
       "8       TIPO   47114.0  TQTD\n",
       "9       TECH  100000.0  TQTD"
      ]
     },
     "execution_count": 7,
     "metadata": {},
     "output_type": "execute_result"
    }
   ],
   "source": [
    "df"
   ]
  },
  {
   "cell_type": "code",
   "execution_count": 8,
   "id": "b9ddd132-e34f-4960-8ff1-a55ff0c4d5f6",
   "metadata": {},
   "outputs": [],
   "source": [
    "# need to create a dataset using DSS."
   ]
  }
 ],
 "metadata": {
  "kernelspec": {
   "display_name": "Python [conda env:ml4t] *",
   "language": "python",
   "name": "conda-env-ml4t-py"
  },
  "language_info": {
   "codemirror_mode": {
    "name": "ipython",
    "version": 3
   },
   "file_extension": ".py",
   "mimetype": "text/x-python",
   "name": "python",
   "nbconvert_exporter": "python",
   "pygments_lexer": "ipython3",
   "version": "3.8.10"
  }
 },
 "nbformat": 4,
 "nbformat_minor": 5
}
